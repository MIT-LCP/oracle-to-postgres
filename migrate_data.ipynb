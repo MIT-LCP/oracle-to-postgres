{
 "cells": [
  {
   "cell_type": "markdown",
   "metadata": {},
   "source": [
    "# Migrate data from Oracle to Postgres"
   ]
  },
  {
   "cell_type": "code",
   "execution_count": null,
   "metadata": {},
   "outputs": [],
   "source": [
    "# Import libraries\n",
    "import migrate\n",
    "import getpass\n",
    "import cx_Oracle\n",
    "import sqlalchemy"
   ]
  },
  {
   "cell_type": "markdown",
   "metadata": {},
   "source": [
    "## 1. Connect to source database"
   ]
  },
  {
   "cell_type": "code",
   "execution_count": null,
   "metadata": {},
   "outputs": [],
   "source": [
    "src_username = input('- Username on source database (default \"sys\"): ') or 'sys'\n",
    "src_host = input('- Hostname for source database (default \"localhost\": ') or 'localhost'\n",
    "src_port = input('- Port for source database (default \"1521\"): ') or 1521\n",
    "src_database = input('- Name of source database (default \"sys\"): ') or 'sys'\n",
    "src_password = getpass.getpass('- Password for source database: ')\n",
    "\n",
    "dsn_str = cx_Oracle.makedsn(src_host,src_port,service_name=src_database)\n",
    "src_con_string = 'oracle://{}:{}@'.format(src_username, src_password) + dsn_str\n",
    "source_engine = sqlalchemy.create_engine(src_con_string)"
   ]
  },
  {
   "cell_type": "markdown",
   "metadata": {},
   "source": [
    "## 2. Connect to target database"
   ]
  },
  {
   "cell_type": "code",
   "execution_count": null,
   "metadata": {},
   "outputs": [],
   "source": [
    "# connect to target database\n",
    "target_username = input('- Username on target database (default \"postgres\"): ') or 'postgres'\n",
    "target_host = input('- Hostname for target database (default \"localhost\"): ') or 'localhost'\n",
    "target_port = input('- Port for target database (default \"5432\"): ') or 5432\n",
    "target_database = input('- Name of target database (default \"postgres\"): ') or 'postgres'\n",
    "target_password = getpass.getpass('- Password for target database: ')\n",
    "print_log = False\n",
    "\n",
    "con_string_target = 'postgresql+psycopg2://{}:{}@{}:{}/{}'.format(target_username, target_password, \n",
    "    target_host, target_port, target_database)\n",
    "\n",
    "target_engine = sqlalchemy.create_engine(con_string_target, echo = print_log)"
   ]
  },
  {
   "cell_type": "markdown",
   "metadata": {},
   "source": [
    "## 3. Create database on target system"
   ]
  },
  {
   "cell_type": "code",
   "execution_count": null,
   "metadata": {},
   "outputs": [],
   "source": [
    "# create a new database on the target\n",
    "# WARNING: deletes target database before creation!\n",
    "msg =  \"\"\"\n",
    "        ----------------------------------------------------\n",
    "        Running this script will delete the target database!\\n\n",
    "        Are you sure you wish to continue? (y/n)\n",
    "        ----------------------------------------------------\n",
    "        \"\"\"\n",
    "if input(msg) != \"y\":\n",
    "    print('Not continuing')\n",
    "else: \n",
    "    new_target_database = 'oracle_migration'\n",
    "    migrate.drop_connections(new_target_database,target_engine)\n",
    "    migrate.drop_database(new_target_database,target_engine)\n",
    "    migrate.create_database(new_target_database,target_engine)"
   ]
  },
  {
   "cell_type": "code",
   "execution_count": null,
   "metadata": {},
   "outputs": [],
   "source": [
    "# reconnect to this target database\n",
    "con_string_target = 'postgresql+psycopg2://{}:{}@{}:{}/{}'.format(target_username, target_password, \n",
    "    target_host, target_port, new_target_database)\n",
    "\n",
    "target_engine = sqlalchemy.create_engine(con_string_target, echo = print_log)"
   ]
  },
  {
   "cell_type": "markdown",
   "metadata": {},
   "source": [
    "## 4. Get list of schema on source system"
   ]
  },
  {
   "cell_type": "code",
   "execution_count": null,
   "metadata": {},
   "outputs": [],
   "source": [
    "# get list of all schema\n",
    "inspector = sqlalchemy.inspect(source_engine)\n",
    "schema_list = inspector.get_schema_names()\n",
    "print(schema_list)"
   ]
  },
  {
   "cell_type": "code",
   "execution_count": null,
   "metadata": {},
   "outputs": [],
   "source": [
    "# Omit the following schema from the migration\n",
    "omit= ['']"
   ]
  },
  {
   "cell_type": "markdown",
   "metadata": {},
   "source": [
    "## 5. Recreate source structure on target system"
   ]
  },
  {
   "cell_type": "code",
   "execution_count": null,
   "metadata": {},
   "outputs": [],
   "source": [
    "# Iterate all of the schema on the database\n",
    "for source_schema in schema_list:\n",
    "\n",
    "    # skip schema in omit list\n",
    "    if source_schema in omit:\n",
    "        continue\n",
    "    \n",
    "    # load the schema metadata profile\n",
    "    print(source_schema)\n",
    "    source_metadata = sqlalchemy.MetaData(source_engine,quote_schema=True)\n",
    "    source_metadata.reflect(schema=source_schema)\n",
    "\n",
    "    # create the schema on the target database\n",
    "    target_engine.execute(sqlalchemy.schema.CreateSchema(source_schema))\n",
    "\n",
    "    # iterate the tables\n",
    "    for t in source_metadata.sorted_tables:\n",
    "\n",
    "        # clear the indexes and constraints\n",
    "        t.indexes.clear()\n",
    "        t.constraints.clear()\n",
    "        \n",
    "        # clean the data types\n",
    "        for col in t.columns:\n",
    "            \n",
    "            # set the column types\n",
    "            newtype = migrate.convert_type(col.name, col.type)\n",
    "            t.c[col.name].type = newtype\n",
    "            \n",
    "            # check the default values\n",
    "            if t.c[col.name].default:\n",
    "                new_default = migrate.check_default(t.c[col.name].default)\n",
    "                t.c[col.name].default = new_default\n",
    "\n",
    "            # remove the server_default values\n",
    "            if t.c[col.name].server_default:\n",
    "                t.c[col.name].server_default = None            \n",
    "\n",
    "    # Build the tables on the target database\n",
    "    source_metadata.create_all(target_engine,checkfirst=False)"
   ]
  },
  {
   "cell_type": "markdown",
   "metadata": {},
   "source": [
    "## 6. Load the data into the target system"
   ]
  },
  {
   "cell_type": "code",
   "execution_count": null,
   "metadata": {},
   "outputs": [],
   "source": [
    "# Iterate all of the schema on the database\n",
    "# Migrate data in chunks\n",
    "\n",
    "# Set number of rows to copy in each chunk\n",
    "chunksize=100\n",
    "\n",
    "for source_schema in schema_list:\n",
    "\n",
    "    # skip schema in omit list\n",
    "    if source_schema in omit:\n",
    "        continue\n",
    "    \n",
    "    # load the schema metadata profile\n",
    "    source_metadata = sqlalchemy.MetaData(source_engine)\n",
    "    source_metadata.reflect(schema=source_schema)\n",
    "\n",
    "    # iterate the tables, loading the data\n",
    "    for t in source_metadata.sorted_tables:\n",
    "        migrate.copy_data(source_engine,source_schema,target_engine,t,chunksize,\n",
    "            logged=True,verbose=True,trialrun=True)"
   ]
  }
 ],
 "metadata": {
  "kernelspec": {
   "display_name": "Python 3",
   "language": "python",
   "name": "python3"
  },
  "language_info": {
   "codemirror_mode": {
    "name": "ipython",
    "version": 3
   },
   "file_extension": ".py",
   "mimetype": "text/x-python",
   "name": "python",
   "nbconvert_exporter": "python",
   "pygments_lexer": "ipython3",
   "version": "3.6.5"
  }
 },
 "nbformat": 4,
 "nbformat_minor": 2
}
